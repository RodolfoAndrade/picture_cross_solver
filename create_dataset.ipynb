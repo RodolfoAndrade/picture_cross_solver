{
 "cells": [
  {
   "cell_type": "code",
   "execution_count": 1,
   "metadata": {},
   "outputs": [],
   "source": [
    "import numpy as np\n",
    "from random import randint"
   ]
  },
  {
   "cell_type": "code",
   "execution_count": 2,
   "metadata": {},
   "outputs": [
    {
     "data": {
      "text/plain": [
       "(4, 4)"
      ]
     },
     "execution_count": 2,
     "metadata": {},
     "output_type": "execute_result"
    }
   ],
   "source": [
    "shape = (4,4)\n",
    "shape"
   ]
  },
  {
   "cell_type": "code",
   "execution_count": 3,
   "metadata": {},
   "outputs": [],
   "source": [
    "def create_board(shape):\n",
    "    board = np.full(shape, 0)\n",
    "\n",
    "    for i in range(shape[0]):\n",
    "        for j in range(shape[1]):\n",
    "            x = randint(0,1)\n",
    "            if x:\n",
    "                board[i][j] = 1\n",
    "    #         print(i, j, x)\n",
    "#     print(board)\n",
    "    return board"
   ]
  },
  {
   "cell_type": "code",
   "execution_count": 4,
   "metadata": {},
   "outputs": [],
   "source": [
    "#line\n",
    "def count_lines(board, shape):\n",
    "    count_lines = []\n",
    "    for i in range(shape[0]):\n",
    "#         print(board[i])\n",
    "        count = 0\n",
    "        count_line = []\n",
    "        for j in range(shape[1]):\n",
    "            if board[i][j]:\n",
    "                count += 1\n",
    "            if (board[:,j][i] == 0 or j == shape[1]-1) and count != 0:\n",
    "                count_line.append(count)\n",
    "                count = 0\n",
    "        [count_line.append(0) for k in range(int(np.ceil(shape[1]/2)) - len(count_line))]\n",
    "#         print(count_line)\n",
    "        count_lines.append(count_line)\n",
    "#     print(count_lines)\n",
    "    return count_lines"
   ]
  },
  {
   "cell_type": "code",
   "execution_count": 5,
   "metadata": {},
   "outputs": [],
   "source": [
    "#row\n",
    "def count_rows(board, shape):\n",
    "    count_rows = []\n",
    "    for j in range(shape[1]):\n",
    "    #     print(board[:,j])\n",
    "        count = 0\n",
    "        count_row = []\n",
    "        for i in range(shape[0]):\n",
    "    #         print(board[:,j][i])\n",
    "            if board[:,j][i]:\n",
    "                count += 1\n",
    "            if (board[:,j][i] == 0 or i == shape[0]-1) and count != 0:\n",
    "                count_row.append(count)\n",
    "                count = 0\n",
    "        [count_row.append(0) for k in range(int(np.ceil(shape[0]/2)) - len(count_row))]\n",
    "    #     print(count_row)\n",
    "        count_rows.append(count_row)\n",
    "#     print(count_rows)\n",
    "    return count_rows"
   ]
  },
  {
   "cell_type": "code",
   "execution_count": 6,
   "metadata": {},
   "outputs": [
    {
     "data": {
      "text/plain": [
       "array([[1, 1, 0, 1],\n",
       "       [0, 1, 1, 1],\n",
       "       [0, 1, 1, 0],\n",
       "       [1, 0, 1, 0]])"
      ]
     },
     "execution_count": 6,
     "metadata": {},
     "output_type": "execute_result"
    }
   ],
   "source": [
    "board = create_board(shape)\n",
    "board"
   ]
  },
  {
   "cell_type": "code",
   "execution_count": 7,
   "metadata": {},
   "outputs": [
    {
     "data": {
      "text/plain": [
       "array([2, 1, 3, 0, 2, 0, 1, 1])"
      ]
     },
     "execution_count": 7,
     "metadata": {},
     "output_type": "execute_result"
    }
   ],
   "source": [
    "np.reshape(count_lines(board,shape), (-1))"
   ]
  },
  {
   "cell_type": "code",
   "execution_count": 8,
   "metadata": {},
   "outputs": [
    {
     "data": {
      "text/plain": [
       "array([1, 1, 3, 0, 3, 0, 2, 0])"
      ]
     },
     "execution_count": 8,
     "metadata": {},
     "output_type": "execute_result"
    }
   ],
   "source": [
    "np.reshape(count_rows(board,shape), (-1))"
   ]
  },
  {
   "cell_type": "code",
   "execution_count": 9,
   "metadata": {},
   "outputs": [],
   "source": [
    "import math"
   ]
  },
  {
   "cell_type": "code",
   "execution_count": 10,
   "metadata": {},
   "outputs": [],
   "source": [
    "shape = (4,4)\n",
    "\n",
    "max_num = int(math.pow(2,(shape[0]*shape[1])))\n",
    "\n",
    "data_x = []\n",
    "data_y = []\n",
    "\n",
    "for i in range(max_num):\n",
    "    array = np.array([int(j) for j in format(i,\"0\"+str(shape[0]*shape[1])+\"b\")])\n",
    "    board = array.reshape(shape)\n",
    "#     print(i, board)\n",
    "    data_x.append(np.append(np.reshape(count_lines(board,shape), (-1)), np.reshape(count_rows(board,shape), (-1))))\n",
    "    data_y.append(board)\n",
    "data_y = np.array(data_y)"
   ]
  },
  {
   "cell_type": "code",
   "execution_count": 12,
   "metadata": {},
   "outputs": [],
   "source": [
    "np.save(\"dataset/data_y_4x4\", data_y)\n",
    "np.save(\"dataset/data_x_4x4\", data_x)"
   ]
  },
  {
   "cell_type": "code",
   "execution_count": 14,
   "metadata": {},
   "outputs": [],
   "source": [
    "data_x = np.load(\"dataset/data_x_4x4.npy\")\n",
    "data_y = np.load(\"dataset/data_y_4x4.npy\")"
   ]
  },
  {
   "cell_type": "code",
   "execution_count": 15,
   "metadata": {},
   "outputs": [
    {
     "name": "stdout",
     "output_type": "stream",
     "text": [
      "(65536, 4, 4)\n",
      "(65536, 16)\n",
      "65536\n",
      "58196\n",
      "7340\n"
     ]
    }
   ],
   "source": [
    "print(data_y.shape)\n",
    "print(data_x.shape)\n",
    "print(len(np.unique(data_y, axis=0)))\n",
    "print(len(np.unique(data_x, axis=0)))\n",
    "print(len(np.unique(data_y, axis=0))-len(np.unique(data_x, axis=0)))"
   ]
  },
  {
   "cell_type": "code",
   "execution_count": 22,
   "metadata": {},
   "outputs": [
    {
     "name": "stdout",
     "output_type": "stream",
     "text": [
      "[[1 0 2 0 1 1 1 1 1 0 1 0 1 0 4 0]]\n",
      "[[0 0 0 1]\n",
      " [0 0 1 1]\n",
      " [0 1 0 1]\n",
      " [1 0 0 1]]\n"
     ]
    }
   ],
   "source": [
    "board = create_board(shape)\n",
    "x = np.array(np.append(np.reshape(count_lines(board,shape), (-1)), np.reshape(count_rows(board,shape), (-1))))\n",
    "x = x.reshape((1,-1))\n",
    "print(x)\n",
    "print(board)"
   ]
  },
  {
   "cell_type": "code",
   "execution_count": 18,
   "metadata": {},
   "outputs": [
    {
     "name": "stderr",
     "output_type": "stream",
     "text": [
      "Using TensorFlow backend.\n"
     ]
    }
   ],
   "source": [
    "from keras.models import load_model"
   ]
  },
  {
   "cell_type": "code",
   "execution_count": 23,
   "metadata": {},
   "outputs": [
    {
     "data": {
      "text/plain": [
       "array([[0., 0., 0., 1.],\n",
       "       [0., 0., 1., 1.],\n",
       "       [1., 1., 0., 1.],\n",
       "       [1., 1., 0., 1.]], dtype=float32)"
      ]
     },
     "execution_count": 23,
     "metadata": {},
     "output_type": "execute_result"
    }
   ],
   "source": [
    "model = load_model('model_4x4.h5')\n",
    "\n",
    "pred = model.predict(x/shape[0])\n",
    "np.round((pred+1)/2)[0]"
   ]
  }
 ],
 "metadata": {
  "kernelspec": {
   "display_name": "picture_cross",
   "language": "python",
   "name": "picture_cross"
  },
  "language_info": {
   "codemirror_mode": {
    "name": "ipython",
    "version": 3
   },
   "file_extension": ".py",
   "mimetype": "text/x-python",
   "name": "python",
   "nbconvert_exporter": "python",
   "pygments_lexer": "ipython3",
   "version": "3.6.7"
  }
 },
 "nbformat": 4,
 "nbformat_minor": 2
}
